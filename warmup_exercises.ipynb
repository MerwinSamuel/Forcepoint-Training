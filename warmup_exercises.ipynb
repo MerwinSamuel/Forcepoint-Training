{
  "nbformat": 4,
  "nbformat_minor": 0,
  "metadata": {
    "colab": {
      "name": "warmup_exercises.ipynb",
      "provenance": []
    },
    "kernelspec": {
      "name": "python3",
      "display_name": "Python 3"
    },
    "language_info": {
      "name": "python"
    }
  },
  "cells": [
    {
      "cell_type": "code",
      "execution_count": null,
      "metadata": {
        "colab": {
          "base_uri": "https://localhost:8080/"
        },
        "id": "iZyYiOt62PJo",
        "outputId": "0da33660-256d-49a6-db93-a8708b54a4fa"
      },
      "outputs": [
        {
          "output_type": "stream",
          "name": "stdout",
          "text": [
            "['e', 'd', 'c', 'b', 'a']\n"
          ]
        }
      ],
      "source": [
        "# 1. Write an algorithm to reverse a character array. Method signature: public char [] reverse(char [] input).\n",
        "# Note:\n",
        "# 1.It is not allowed to use any inbuilt language function\n",
        "# 2. it is not allowed to use any temporary array\n",
        "# 3. Basically it should be an in place reversal \n",
        "\n",
        "\n",
        "def reverse(arr):\n",
        "    n = len(arr)\n",
        "    i=0;\n",
        "    j=n-1;\n",
        "\n",
        "    while(i<j):\n",
        "        temp = arr[i]\n",
        "        arr[i] = arr[j]\n",
        "        arr[j] = temp\n",
        "        i=i+1\n",
        "        j=j-1\n",
        "    \n",
        "\n",
        "#test\n",
        "arr = ['a','b','c','d','e']\n",
        "reverse(arr)\n",
        "print(arr)\n"
      ]
    },
    {
      "cell_type": "code",
      "source": [
        "# 2. Find number of occurrences of each number from the array\n",
        "# Every number is in the range [0….100].\n",
        "# Public void numberOfOccurences (int [] input){\n",
        "# //write logic here\n",
        "# }\n",
        "# Note: expecting O(n) solution which means no sorting or nested loops allowed\n",
        "\n",
        "\n",
        "\n",
        "def number_of_occurences(arr):\n",
        "    freqMap  = {}\n",
        "\n",
        "    for n in arr:\n",
        "        if n in freqMap : \n",
        "            freqMap[n] += 1\n",
        "        else: \n",
        "            freqMap[n] = 1\n",
        "\n",
        "    return freqMap \n",
        "\n",
        "#test\n",
        "arr = [1,1,2,2,3,1,2,3,5,6,4]\n",
        "\n",
        "number_of_occurences(arr)"
      ],
      "metadata": {
        "colab": {
          "base_uri": "https://localhost:8080/"
        },
        "id": "YlGGGkmE3qqF",
        "outputId": "177d6850-96e0-47ff-8552-e5c02fdda8b9"
      },
      "execution_count": null,
      "outputs": [
        {
          "output_type": "execute_result",
          "data": {
            "text/plain": [
              "{1: 3, 2: 3, 3: 2, 4: 1, 5: 1, 6: 1}"
            ]
          },
          "metadata": {},
          "execution_count": 9
        }
      ]
    },
    {
      "cell_type": "code",
      "source": [
        "# 3. Find first maximum and second maximum number from an integer array\n",
        "# Note : expecting O(n) solution which means no sorting or nested loops allowed\n",
        "\n",
        "\n",
        "def first_second_max(arr):\n",
        "    first_max=arr[0]\n",
        "    second_max = arr[0]\n",
        "    for i in range(len(arr)):\n",
        "      if(arr[i]>first_max):\n",
        "        second_max = first_max\n",
        "        first_max = arr[i]\n",
        "      elif(arr[i]>second_max):\n",
        "        second_max = arr[i]\n",
        "                \n",
        "\n",
        "    return [first_max,second_max]\n",
        "\n",
        "#test \n",
        "arr = [1,2,3,4,5,6,7,86,32, 100, 101]\n",
        "\n",
        "first_second_max(arr)"
      ],
      "metadata": {
        "colab": {
          "base_uri": "https://localhost:8080/"
        },
        "id": "3jvXCv2C5C99",
        "outputId": "f58dd4ff-c526-42b9-8aea-a8bb84550010"
      },
      "execution_count": null,
      "outputs": [
        {
          "output_type": "execute_result",
          "data": {
            "text/plain": [
              "[101, 100]"
            ]
          },
          "metadata": {},
          "execution_count": 14
        }
      ]
    },
    {
      "cell_type": "code",
      "source": [
        "# 4. roundOff a float number having only one decimal place (3.2 = 3; 4.8 =5 etc)\n",
        "# Note: It is not allowed to use any inbuilt language function.\n",
        "\n",
        "\n",
        "def round_off(num):\n",
        "    decimal_part = num - int(num)\n",
        "    if decimal_part >= 0.5:\n",
        "        return int(num) + 1\n",
        "    else:\n",
        "        return int(num)\n",
        "\n",
        "\n",
        "round_off(12.4)"
      ],
      "metadata": {
        "colab": {
          "base_uri": "https://localhost:8080/"
        },
        "id": "WHrv4lY_7bOM",
        "outputId": "433a764c-29a8-4f08-ad13-f86e96d5a3b4"
      },
      "execution_count": null,
      "outputs": [
        {
          "output_type": "execute_result",
          "data": {
            "text/plain": [
              "12"
            ]
          },
          "metadata": {},
          "execution_count": 16
        }
      ]
    },
    {
      "cell_type": "code",
      "source": [
        "# 5. Surprisingly there are only three numbers that can be written as the sum of fourth\n",
        "# powers of their digits:\n",
        "# 1634 = 14 + 64 + 34 + 44\n",
        "#  8208 = 84 + 24 + 04 + 84\n",
        "# 9474 = 94 + 44 + 74 + 44\n",
        "# As 1 = 14\n",
        "# is not a sum it is not included.\n",
        "# The sum of these numbers is 1634 + 8208 + 9474 = 19316.\n",
        "# Find the sum of all the numbers that can be written as the sum of fifth powers of their\n",
        "# digits.\n",
        "\n",
        "def get_digits(number):\n",
        "    arr = []\n",
        "    while(int(number)>0):\n",
        "        arr.append(number%10)\n",
        "        number = int(number/10) \n",
        "    return arr\n",
        "\n",
        "for i in range(2,1000000):\n",
        "    arr = get_digits(i)\n",
        "    total = 0 \n",
        "    \n",
        "    for num in arr:\n",
        "        total += pow(num,5)\n",
        "        \n",
        "    \n",
        "    if (total == i) :\n",
        "        print(i)"
      ],
      "metadata": {
        "colab": {
          "base_uri": "https://localhost:8080/"
        },
        "id": "oBs9JDJD8Fwp",
        "outputId": "1f2839d2-9d98-4efe-afd6-59cdafb52e72"
      },
      "execution_count": null,
      "outputs": [
        {
          "output_type": "stream",
          "name": "stdout",
          "text": [
            "4150\n",
            "4151\n",
            "54748\n",
            "92727\n",
            "93084\n",
            "194979\n"
          ]
        }
      ]
    },
    {
      "cell_type": "code",
      "source": [
        "# 6. Write a function that takes in an integer array and returns the item that occurs most\n",
        "# often.\n",
        "# int Most_frequent(inputArray [])\n",
        "# If n is an input element in the array the possible values for n 1 ≤ n ≤ 100\n",
        "# Note: Solution should be in O(n)\n",
        "\n",
        "def most_frequent(arr):\n",
        "    freq_map = number_of_occurences(arr)\n",
        "    \n",
        "    ans = arr[0]\n",
        "    freq = freq_map[arr[0]]\n",
        "    \n",
        "    for i , j in freq_map.items():\n",
        "        if(j>freq):\n",
        "            ans = i \n",
        "            freq = j\n",
        "    return ans\n",
        "\n",
        "arr = [1,1,1,1,23,2,4,2,2,2,2,3,3,3,3]\n",
        "most_frequent(arr)"
      ],
      "metadata": {
        "colab": {
          "base_uri": "https://localhost:8080/"
        },
        "id": "16Q_vMvdAXYK",
        "outputId": "e8c361a0-d749-4496-d250-92148bb38e8b"
      },
      "execution_count": null,
      "outputs": [
        {
          "output_type": "execute_result",
          "data": {
            "text/plain": [
              "2"
            ]
          },
          "metadata": {},
          "execution_count": 23
        }
      ]
    },
    {
      "cell_type": "code",
      "source": [
        "# 7. Given two sorted arrays in ascending order , write a function which takes both as input\n",
        "# and returns an array of common elements .\n",
        "#  A = [1,3,4,6,7,9]\n",
        "#  B=[1,2,4,5,9,10]\n",
        "#  OutputArray:[1,,4,9]\n",
        "# Note: Solution should be in O(n)\n",
        "\n",
        "def common_elements(arr1 , arr2):\n",
        "    i=0\n",
        "    j=0\n",
        "    ans =[]\n",
        "    while i < len(arr1) and j < len(arr2):\n",
        "        if arr1[i] < arr2[j]:\n",
        "            i += 1\n",
        "        elif arr1[i] > arr2[j]:\n",
        "            j+= 1\n",
        "        else:\n",
        "            ans.append(arr1[i])\n",
        "            j += 1\n",
        "            i += 1\n",
        "    return ans\n",
        "            \n",
        "arr1 = [1,2,99,3,4,5,6]\n",
        "arr2 = [2,4,6,8,99]\n",
        "\n",
        "common_elements(arr1 , arr2)"
      ],
      "metadata": {
        "colab": {
          "base_uri": "https://localhost:8080/"
        },
        "id": "6FT_0-6xBDgO",
        "outputId": "7019da8e-60c5-4d24-e08b-4231d528b2c0"
      },
      "execution_count": null,
      "outputs": [
        {
          "output_type": "execute_result",
          "data": {
            "text/plain": [
              "[2, 99]"
            ]
          },
          "metadata": {},
          "execution_count": 25
        }
      ]
    }
  ]
}